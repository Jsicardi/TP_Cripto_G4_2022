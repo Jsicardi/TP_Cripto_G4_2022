{
 "cells": [
  {
   "cell_type": "code",
   "execution_count": 24,
   "metadata": {},
   "outputs": [],
   "source": [
    "def get_seconds(text):\n",
    "    text = text[:-1]\n",
    "    t = text.split('m')\n",
    "    s = t[1][:-1]\n",
    "    s = float(s.replace(',', '.'))\n",
    "    return s"
   ]
  },
  {
   "cell_type": "code",
   "execution_count": 25,
   "metadata": {},
   "outputs": [],
   "source": [
    "import math"
   ]
  },
  {
   "cell_type": "code",
   "execution_count": 26,
   "metadata": {},
   "outputs": [],
   "source": [
    "def get_times_from_file(filename):\n",
    "    f = open(filename, \"r\")\n",
    "    total_times = 0\n",
    "    i = 0\n",
    "    times = dict()\n",
    "    mean_times = dict()\n",
    "    std_times = dict()\n",
    "    for x in f:\n",
    "        if i % 4 == 0:\n",
    "            i = 0\n",
    "            total_times += 1\n",
    "        if i == 1 or i == 2 or i == 3:\n",
    "            arr = x.split('\\t')\n",
    "            s = get_seconds(arr[1])\n",
    "\n",
    "            if not arr[0] in times:\n",
    "                times[arr[0]] = []\n",
    "            times[arr[0]].append(s)\n",
    "\n",
    "            if not arr[0] in mean_times:\n",
    "                mean_times[arr[0]] = 0\n",
    "            mean_times[arr[0]] += s\n",
    "            \n",
    "        i += 1\n",
    "    for key in mean_times:\n",
    "        mean_times[key] /= total_times\n",
    "        mean_times[key] = round(mean_times[key], 3)\n",
    "\n",
    "    for key in times:\n",
    "        std_times[key] = 0\n",
    "        for item in times[key]:\n",
    "            std_times[key] += (item - mean_times[key])**2\n",
    "        std_times[key] /= total_times\n",
    "        std_times[key] = round(math.sqrt(std_times[key]), 3)\n",
    "\n",
    "    for key in mean_times:\n",
    "        mean_times[key] = round(mean_times[key], 3)\n",
    "    \n",
    "    f.close()\n",
    "    return (mean_times, std_times)"
   ]
  },
  {
   "cell_type": "code",
   "execution_count": 27,
   "metadata": {},
   "outputs": [
    {
     "name": "stdout",
     "output_type": "stream",
     "text": [
      "({'real': 0.027, 'user': 0.025, 'sys': 0.003}, {'real': 0.001, 'user': 0.003, 'sys': 0.003})\n",
      "({'real': 0.032, 'user': 0.029, 'sys': 0.003}, {'real': 0.001, 'user': 0.003, 'sys': 0.003})\n",
      "({'real': 0.105, 'user': 0.102, 'sys': 0.003}, {'real': 0.002, 'user': 0.004, 'sys': 0.003})\n",
      "({'real': 0.047, 'user': 0.044, 'sys': 0.003}, {'real': 0.001, 'user': 0.003, 'sys': 0.003})\n",
      "({'real': 0.039, 'user': 0.037, 'sys': 0.002}, {'real': 0.002, 'user': 0.003, 'sys': 0.002})\n",
      "({'real': 0.046, 'user': 0.044, 'sys': 0.002}, {'real': 0.002, 'user': 0.003, 'sys': 0.003})\n"
     ]
    }
   ],
   "source": [
    "print(get_times_from_file(\"results/time_eLSB1.txt\"))\n",
    "print(get_times_from_file(\"results/time_eLSB4.txt\"))\n",
    "print(get_times_from_file(\"results/time_eLSBI.txt\"))\n",
    "print(get_times_from_file(\"results/time_xLSB1.txt\"))\n",
    "print(get_times_from_file(\"results/time_xLSB4.txt\"))\n",
    "print(get_times_from_file(\"results/time_xLSBI.txt\"))"
   ]
  }
 ],
 "metadata": {
  "kernelspec": {
   "display_name": "Python 3.9.5 64-bit",
   "language": "python",
   "name": "python3"
  },
  "language_info": {
   "codemirror_mode": {
    "name": "ipython",
    "version": 3
   },
   "file_extension": ".py",
   "mimetype": "text/x-python",
   "name": "python",
   "nbconvert_exporter": "python",
   "pygments_lexer": "ipython3",
   "version": "3.9.5"
  },
  "orig_nbformat": 4,
  "vscode": {
   "interpreter": {
    "hash": "e7370f93d1d0cde622a1f8e1c04877d8463912d04d973331ad4851f04de6915a"
   }
  }
 },
 "nbformat": 4,
 "nbformat_minor": 2
}
